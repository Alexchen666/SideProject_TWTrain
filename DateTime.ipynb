{
 "cells": [
  {
   "cell_type": "markdown",
   "id": "a5938fa8",
   "metadata": {},
   "source": [
    "# 台鐵車站的資料分析與視覺化 Part 3. 日期處理\n",
    "\n",
    "這個part可說是上一部份的繼續。因為我還必須處理每日運量的資料，這牽涉到時間序列，處理上又會更加複雜，因此獨立成一個notebook。"
   ]
  },
  {
   "cell_type": "markdown",
   "id": "4737d0bc",
   "metadata": {},
   "source": [
    "## 1. 前處理：車站統一"
   ]
  },
  {
   "cell_type": "markdown",
   "id": "07388ed2",
   "metadata": {},
   "source": [
    "匯入所需套件"
   ]
  },
  {
   "cell_type": "code",
   "execution_count": 1,
   "id": "c9f86cce",
   "metadata": {
    "ExecuteTime": {
     "end_time": "2021-07-14T02:37:57.245177Z",
     "start_time": "2021-07-14T02:37:32.049829Z"
    }
   },
   "outputs": [],
   "source": [
    "%config Completer.use_jedi = False\n",
    "%matplotlib inline\n",
    "import pandas as pd\n",
    "import matplotlib\n",
    "import matplotlib.pyplot as plt\n",
    "import numpy as np\n",
    "import datetime as dt\n",
    "import seaborn as sns"
   ]
  },
  {
   "cell_type": "code",
   "execution_count": 3,
   "id": "1f5d346b",
   "metadata": {
    "ExecuteTime": {
     "end_time": "2021-07-14T02:37:57.527586Z",
     "start_time": "2021-07-14T02:37:57.270159Z"
    }
   },
   "outputs": [],
   "source": [
    "df_train = pd.read_csv('2020_Station.csv', parse_dates=[0])"
   ]
  },
  {
   "cell_type": "markdown",
   "id": "04539282",
   "metadata": {},
   "source": [
    "看看資料，我對於各車站每日有多少人進或出站不是那麼有興趣，而是對於一日流通量較感興趣，因此我們要整理出這樣的欄位。"
   ]
  },
  {
   "cell_type": "code",
   "execution_count": 4,
   "id": "aed8d03a",
   "metadata": {
    "ExecuteTime": {
     "end_time": "2021-07-14T02:37:57.606555Z",
     "start_time": "2021-07-14T02:37:57.529428Z"
    }
   },
   "outputs": [
    {
     "data": {
      "text/html": [
       "<div>\n",
       "<style scoped>\n",
       "    .dataframe tbody tr th:only-of-type {\n",
       "        vertical-align: middle;\n",
       "    }\n",
       "\n",
       "    .dataframe tbody tr th {\n",
       "        vertical-align: top;\n",
       "    }\n",
       "\n",
       "    .dataframe thead th {\n",
       "        text-align: right;\n",
       "    }\n",
       "</style>\n",
       "<table border=\"1\" class=\"dataframe\">\n",
       "  <thead>\n",
       "    <tr style=\"text-align: right;\">\n",
       "      <th></th>\n",
       "      <th>trnOpDate</th>\n",
       "      <th>staCode</th>\n",
       "      <th>gateInComingCnt</th>\n",
       "      <th>gateOutGoingCnt</th>\n",
       "    </tr>\n",
       "  </thead>\n",
       "  <tbody>\n",
       "    <tr>\n",
       "      <th>0</th>\n",
       "      <td>2020-01-01</td>\n",
       "      <td>900</td>\n",
       "      <td>7552</td>\n",
       "      <td>8154</td>\n",
       "    </tr>\n",
       "    <tr>\n",
       "      <th>1</th>\n",
       "      <td>2020-01-01</td>\n",
       "      <td>910</td>\n",
       "      <td>1020</td>\n",
       "      <td>1135</td>\n",
       "    </tr>\n",
       "    <tr>\n",
       "      <th>2</th>\n",
       "      <td>2020-01-01</td>\n",
       "      <td>920</td>\n",
       "      <td>1623</td>\n",
       "      <td>1972</td>\n",
       "    </tr>\n",
       "    <tr>\n",
       "      <th>3</th>\n",
       "      <td>2020-01-01</td>\n",
       "      <td>930</td>\n",
       "      <td>4130</td>\n",
       "      <td>4813</td>\n",
       "    </tr>\n",
       "    <tr>\n",
       "      <th>4</th>\n",
       "      <td>2020-01-01</td>\n",
       "      <td>940</td>\n",
       "      <td>1818</td>\n",
       "      <td>2128</td>\n",
       "    </tr>\n",
       "  </tbody>\n",
       "</table>\n",
       "</div>"
      ],
      "text/plain": [
       "   trnOpDate  staCode  gateInComingCnt  gateOutGoingCnt\n",
       "0 2020-01-01      900             7552             8154\n",
       "1 2020-01-01      910             1020             1135\n",
       "2 2020-01-01      920             1623             1972\n",
       "3 2020-01-01      930             4130             4813\n",
       "4 2020-01-01      940             1818             2128"
      ]
     },
     "execution_count": 4,
     "metadata": {},
     "output_type": "execute_result"
    }
   ],
   "source": [
    "df_train.head()"
   ]
  },
  {
   "cell_type": "code",
   "execution_count": 5,
   "id": "153f59fb",
   "metadata": {
    "ExecuteTime": {
     "end_time": "2021-07-14T02:37:57.668397Z",
     "start_time": "2021-07-14T02:37:57.609543Z"
    }
   },
   "outputs": [],
   "source": [
    "df_train['Total'] = df_train.gateInComingCnt + df_train.gateOutGoingCnt"
   ]
  },
  {
   "cell_type": "markdown",
   "id": "c58223e3",
   "metadata": {},
   "source": [
    "讀入之前的整理好的資料集。目的是為了讓兩邊的車站統一，以免後續分析困難。"
   ]
  },
  {
   "cell_type": "code",
   "execution_count": 6,
   "id": "ef04bf38",
   "metadata": {
    "ExecuteTime": {
     "end_time": "2021-07-14T02:37:57.699369Z",
     "start_time": "2021-07-14T02:37:57.670212Z"
    }
   },
   "outputs": [],
   "source": [
    "df_station = pd.read_csv('df_station.csv', index_col=0)"
   ]
  },
  {
   "cell_type": "code",
   "execution_count": 7,
   "id": "e31eb312",
   "metadata": {
    "ExecuteTime": {
     "end_time": "2021-07-14T02:37:57.730921Z",
     "start_time": "2021-07-14T02:37:57.701001Z"
    }
   },
   "outputs": [
    {
     "data": {
      "text/html": [
       "<div>\n",
       "<style scoped>\n",
       "    .dataframe tbody tr th:only-of-type {\n",
       "        vertical-align: middle;\n",
       "    }\n",
       "\n",
       "    .dataframe tbody tr th {\n",
       "        vertical-align: top;\n",
       "    }\n",
       "\n",
       "    .dataframe thead th {\n",
       "        text-align: right;\n",
       "    }\n",
       "</style>\n",
       "<table border=\"1\" class=\"dataframe\">\n",
       "  <thead>\n",
       "    <tr style=\"text-align: right;\">\n",
       "      <th></th>\n",
       "      <th>stationCode</th>\n",
       "      <th>stationName</th>\n",
       "      <th>stationEName</th>\n",
       "      <th>stationAddrTw</th>\n",
       "      <th>stationAddrEn</th>\n",
       "      <th>stationTel</th>\n",
       "      <th>gps</th>\n",
       "      <th>Level</th>\n",
       "      <th>Link</th>\n",
       "      <th>Open</th>\n",
       "      <th>Line</th>\n",
       "    </tr>\n",
       "  </thead>\n",
       "  <tbody>\n",
       "    <tr>\n",
       "      <th>0</th>\n",
       "      <td>900</td>\n",
       "      <td>基隆</td>\n",
       "      <td>Keelung</td>\n",
       "      <td>基隆市中山區民治里1鄰中山一路16之 1號</td>\n",
       "      <td>No. 16-1, Zhongshan 1st Rd, Zhongshan Dist., K...</td>\n",
       "      <td>02-24263743</td>\n",
       "      <td>25.13401 121.74013</td>\n",
       "      <td>一等</td>\n",
       "      <td>/wiki/%E5%9F%BA%E9%9A%86%E8%BB%8A%E7%AB%99</td>\n",
       "      <td>1891-10-20</td>\n",
       "      <td>縱貫線、基隆捷運（規劃中）</td>\n",
       "    </tr>\n",
       "    <tr>\n",
       "      <th>1</th>\n",
       "      <td>910</td>\n",
       "      <td>三坑</td>\n",
       "      <td>Sankeng</td>\n",
       "      <td>基隆市仁愛區德厚里龍安街 206 號</td>\n",
       "      <td>No. 206, Long’an St., Ren`ai Dist., Keelung City</td>\n",
       "      <td>02-24230289</td>\n",
       "      <td>25.12305 121.74202</td>\n",
       "      <td>簡易</td>\n",
       "      <td>/wiki/%E4%B8%89%E5%9D%91%E8%BB%8A%E7%AB%99</td>\n",
       "      <td>2003-05-09</td>\n",
       "      <td>縱貫線</td>\n",
       "    </tr>\n",
       "    <tr>\n",
       "      <th>2</th>\n",
       "      <td>920</td>\n",
       "      <td>八堵</td>\n",
       "      <td>Badu</td>\n",
       "      <td>基隆市暖暖區八南里八堵路 142 號</td>\n",
       "      <td>No. 142, Badu Rd., Nuannuan Dist., Keelung City</td>\n",
       "      <td>02-24560841</td>\n",
       "      <td>25.10843 121.72898</td>\n",
       "      <td>二等</td>\n",
       "      <td>/wiki/%E5%85%AB%E5%A0%B5%E8%BB%8A%E7%AB%99</td>\n",
       "      <td>1899-07-20</td>\n",
       "      <td>縱貫線、宜蘭線</td>\n",
       "    </tr>\n",
       "    <tr>\n",
       "      <th>3</th>\n",
       "      <td>930</td>\n",
       "      <td>七堵</td>\n",
       "      <td>Qidu</td>\n",
       "      <td>基隆市七堵區長興里東新街 2 號</td>\n",
       "      <td>No. 2, Dongxin St., Qidu Dist., Keelung City</td>\n",
       "      <td>02-24553426</td>\n",
       "      <td>25.09294 121.71415</td>\n",
       "      <td>一等</td>\n",
       "      <td>/wiki/%E4%B8%83%E5%A0%B5%E8%BB%8A%E7%AB%99</td>\n",
       "      <td>1891-10-20</td>\n",
       "      <td>縱貫線</td>\n",
       "    </tr>\n",
       "    <tr>\n",
       "      <th>4</th>\n",
       "      <td>940</td>\n",
       "      <td>百福</td>\n",
       "      <td>Baifu</td>\n",
       "      <td>基隆市七堵區堵南里明德三路 1 之 1 號</td>\n",
       "      <td>No. 1-1, Mingde 3rd Rd., Qidu Dist., Keelung City</td>\n",
       "      <td>02-24528372</td>\n",
       "      <td>25.07803 121.69373</td>\n",
       "      <td>簡易</td>\n",
       "      <td>/wiki/%E7%99%BE%E7%A6%8F%E8%BB%8A%E7%AB%99</td>\n",
       "      <td>2007-05-08</td>\n",
       "      <td>縱貫線</td>\n",
       "    </tr>\n",
       "  </tbody>\n",
       "</table>\n",
       "</div>"
      ],
      "text/plain": [
       "   stationCode stationName stationEName          stationAddrTw  \\\n",
       "0          900          基隆      Keelung  基隆市中山區民治里1鄰中山一路16之 1號   \n",
       "1          910          三坑      Sankeng     基隆市仁愛區德厚里龍安街 206 號   \n",
       "2          920          八堵         Badu     基隆市暖暖區八南里八堵路 142 號   \n",
       "3          930          七堵         Qidu       基隆市七堵區長興里東新街 2 號   \n",
       "4          940          百福        Baifu  基隆市七堵區堵南里明德三路 1 之 1 號   \n",
       "\n",
       "                                       stationAddrEn   stationTel  \\\n",
       "0  No. 16-1, Zhongshan 1st Rd, Zhongshan Dist., K...  02-24263743   \n",
       "1   No. 206, Long’an St., Ren`ai Dist., Keelung City  02-24230289   \n",
       "2    No. 142, Badu Rd., Nuannuan Dist., Keelung City  02-24560841   \n",
       "3       No. 2, Dongxin St., Qidu Dist., Keelung City  02-24553426   \n",
       "4  No. 1-1, Mingde 3rd Rd., Qidu Dist., Keelung City  02-24528372   \n",
       "\n",
       "                  gps Level                                        Link  \\\n",
       "0  25.13401 121.74013    一等  /wiki/%E5%9F%BA%E9%9A%86%E8%BB%8A%E7%AB%99   \n",
       "1  25.12305 121.74202    簡易  /wiki/%E4%B8%89%E5%9D%91%E8%BB%8A%E7%AB%99   \n",
       "2  25.10843 121.72898    二等  /wiki/%E5%85%AB%E5%A0%B5%E8%BB%8A%E7%AB%99   \n",
       "3  25.09294 121.71415    一等  /wiki/%E4%B8%83%E5%A0%B5%E8%BB%8A%E7%AB%99   \n",
       "4  25.07803 121.69373    簡易  /wiki/%E7%99%BE%E7%A6%8F%E8%BB%8A%E7%AB%99   \n",
       "\n",
       "         Open           Line  \n",
       "0  1891-10-20  縱貫線、基隆捷運（規劃中）  \n",
       "1  2003-05-09            縱貫線  \n",
       "2  1899-07-20        縱貫線、宜蘭線  \n",
       "3  1891-10-20            縱貫線  \n",
       "4  2007-05-08            縱貫線  "
      ]
     },
     "execution_count": 7,
     "metadata": {},
     "output_type": "execute_result"
    }
   ],
   "source": [
    "df_station.head()"
   ]
  },
  {
   "cell_type": "code",
   "execution_count": 9,
   "id": "167502bb",
   "metadata": {
    "ExecuteTime": {
     "end_time": "2021-07-14T02:37:57.778939Z",
     "start_time": "2021-07-14T02:37:57.765708Z"
    }
   },
   "outputs": [
    {
     "data": {
      "text/plain": [
       "(240, 11)"
      ]
     },
     "execution_count": 9,
     "metadata": {},
     "output_type": "execute_result"
    }
   ],
   "source": [
    "df_station.shape"
   ]
  },
  {
   "cell_type": "markdown",
   "id": "c35786ef",
   "metadata": {},
   "source": [
    "看看兩個資料集之間有沒有不共通的車站，發現只有一個：枋野。不過這個車站也還好，因為沒有提供客運服務，所以到時候合併時捨棄是可以接受的。"
   ]
  },
  {
   "cell_type": "code",
   "execution_count": 10,
   "id": "93e4e19a",
   "metadata": {
    "ExecuteTime": {
     "end_time": "2021-07-14T02:37:58.155722Z",
     "start_time": "2021-07-14T02:37:57.780669Z"
    }
   },
   "outputs": [
    {
     "name": "stdout",
     "output_type": "stream",
     "text": [
      "161    枋野\n",
      "Name: stationName, dtype: object\n"
     ]
    }
   ],
   "source": [
    "for i in df_station.stationCode:\n",
    "    if i not in df_train.staCode.unique():\n",
    "        print(df_station[df_station.stationCode == i]['stationName'])"
   ]
  },
  {
   "cell_type": "markdown",
   "id": "0b4db9a1",
   "metadata": {},
   "source": [
    "## 2. 日期缺值處理"
   ]
  },
  {
   "cell_type": "markdown",
   "id": "109513ed",
   "metadata": {},
   "source": [
    "接著是重頭戲！開始處理時間資料了。有些車站可能會因為當日沒有運量、資料缺失等，導致該車站紀錄筆數不足當年日數，必須先修正這個問題。\n",
    "\n",
    "先來看看有多少車站存在這樣的狀況。"
   ]
  },
  {
   "cell_type": "code",
   "execution_count": 11,
   "id": "016b26e6",
   "metadata": {
    "ExecuteTime": {
     "end_time": "2021-07-14T02:37:58.187427Z",
     "start_time": "2021-07-14T02:37:58.158441Z"
    }
   },
   "outputs": [
    {
     "data": {
      "text/plain": [
       "366    226\n",
       "360      2\n",
       "345      1\n",
       "356      1\n",
       "357      1\n",
       "358      1\n",
       "362      1\n",
       "363      1\n",
       "364      1\n",
       "365      1\n",
       "126      1\n",
       "249      1\n",
       "251      1\n",
       "Name: Total, dtype: int64"
      ]
     },
     "execution_count": 11,
     "metadata": {},
     "output_type": "execute_result"
    }
   ],
   "source": [
    "df_train.groupby('staCode')['Total'].size().value_counts()"
   ]
  },
  {
   "cell_type": "markdown",
   "id": "c316677d",
   "metadata": {},
   "source": [
    "將不足一年的車站取出來，要將剩餘的天數補0放回去。\n",
    "\n",
    ">在這邊假設沒有資料是因為沒有運量。"
   ]
  },
  {
   "cell_type": "code",
   "execution_count": 12,
   "id": "68cecbe5",
   "metadata": {
    "ExecuteTime": {
     "end_time": "2021-07-14T02:37:58.217853Z",
     "start_time": "2021-07-14T02:37:58.189429Z"
    }
   },
   "outputs": [],
   "source": [
    "not366 = list(df_train.groupby('staCode')['Total'].size()[df_train.groupby('staCode')['Total'].size() != 366].index)"
   ]
  },
  {
   "cell_type": "code",
   "execution_count": 13,
   "id": "735acf52",
   "metadata": {
    "ExecuteTime": {
     "end_time": "2021-07-14T02:37:58.249789Z",
     "start_time": "2021-07-14T02:37:58.219847Z"
    }
   },
   "outputs": [
    {
     "data": {
      "text/plain": [
       "staCode\n",
       "5130    249\n",
       "5140    126\n",
       "5160    251\n",
       "6040    365\n",
       "7170    345\n",
       "7331    356\n",
       "7332    364\n",
       "7333    357\n",
       "7334    362\n",
       "7335    360\n",
       "7336    363\n",
       "7361    360\n",
       "7362    358\n",
       "Name: Total, dtype: int64"
      ]
     },
     "execution_count": 13,
     "metadata": {},
     "output_type": "execute_result"
    }
   ],
   "source": [
    "df_train.groupby('staCode')['Total'].size()[df_train.groupby('staCode')['Total'].size() != 366]"
   ]
  },
  {
   "cell_type": "markdown",
   "id": "347e184f",
   "metadata": {},
   "source": [
    "看看有哪些車站不足366天，會發現大部分確實都是小站，但有些觀光車站，例如十分、平溪等，卻也不足366天，有點不太合理。\n",
    "\n",
    "但觀察一下，會發現整條平溪線都有這樣的狀況。我突然想到，2020年12月平溪線有發生自然災害導致列車停駛，如此一來，確實有可能會有幾天沒有運量而沒有紀錄。稍後再來看看是不是真的這樣。先把缺失資料補回去。"
   ]
  },
  {
   "cell_type": "code",
   "execution_count": 14,
   "id": "8ea42607",
   "metadata": {
    "ExecuteTime": {
     "end_time": "2021-07-14T02:37:58.281713Z",
     "start_time": "2021-07-14T02:37:58.251794Z"
    }
   },
   "outputs": [
    {
     "data": {
      "text/html": [
       "<div>\n",
       "<style scoped>\n",
       "    .dataframe tbody tr th:only-of-type {\n",
       "        vertical-align: middle;\n",
       "    }\n",
       "\n",
       "    .dataframe tbody tr th {\n",
       "        vertical-align: top;\n",
       "    }\n",
       "\n",
       "    .dataframe thead th {\n",
       "        text-align: right;\n",
       "    }\n",
       "</style>\n",
       "<table border=\"1\" class=\"dataframe\">\n",
       "  <thead>\n",
       "    <tr style=\"text-align: right;\">\n",
       "      <th></th>\n",
       "      <th>stationCode</th>\n",
       "      <th>stationName</th>\n",
       "      <th>Line</th>\n",
       "    </tr>\n",
       "  </thead>\n",
       "  <tbody>\n",
       "    <tr>\n",
       "      <th>158</th>\n",
       "      <td>5130</td>\n",
       "      <td>加祿</td>\n",
       "      <td>南迴線</td>\n",
       "    </tr>\n",
       "    <tr>\n",
       "      <th>159</th>\n",
       "      <td>5140</td>\n",
       "      <td>內獅</td>\n",
       "      <td>南迴線、恆春線（規劃中）</td>\n",
       "    </tr>\n",
       "    <tr>\n",
       "      <th>160</th>\n",
       "      <td>5160</td>\n",
       "      <td>枋山</td>\n",
       "      <td>南迴線</td>\n",
       "    </tr>\n",
       "    <tr>\n",
       "      <th>172</th>\n",
       "      <td>6040</td>\n",
       "      <td>瑞和</td>\n",
       "      <td>臺東線</td>\n",
       "    </tr>\n",
       "    <tr>\n",
       "      <th>211</th>\n",
       "      <td>7170</td>\n",
       "      <td>中里</td>\n",
       "      <td>宜蘭線</td>\n",
       "    </tr>\n",
       "    <tr>\n",
       "      <th>228</th>\n",
       "      <td>7331</td>\n",
       "      <td>大華</td>\n",
       "      <td>平溪線</td>\n",
       "    </tr>\n",
       "    <tr>\n",
       "      <th>229</th>\n",
       "      <td>7332</td>\n",
       "      <td>十分</td>\n",
       "      <td>平溪線</td>\n",
       "    </tr>\n",
       "    <tr>\n",
       "      <th>230</th>\n",
       "      <td>7333</td>\n",
       "      <td>望古</td>\n",
       "      <td>平溪線</td>\n",
       "    </tr>\n",
       "    <tr>\n",
       "      <th>231</th>\n",
       "      <td>7334</td>\n",
       "      <td>嶺腳</td>\n",
       "      <td>平溪線</td>\n",
       "    </tr>\n",
       "    <tr>\n",
       "      <th>232</th>\n",
       "      <td>7335</td>\n",
       "      <td>平溪</td>\n",
       "      <td>平溪線</td>\n",
       "    </tr>\n",
       "    <tr>\n",
       "      <th>233</th>\n",
       "      <td>7336</td>\n",
       "      <td>菁桐</td>\n",
       "      <td>平溪線</td>\n",
       "    </tr>\n",
       "    <tr>\n",
       "      <th>236</th>\n",
       "      <td>7361</td>\n",
       "      <td>海科館</td>\n",
       "      <td>深澳線</td>\n",
       "    </tr>\n",
       "    <tr>\n",
       "      <th>237</th>\n",
       "      <td>7362</td>\n",
       "      <td>八斗子</td>\n",
       "      <td>深澳線</td>\n",
       "    </tr>\n",
       "  </tbody>\n",
       "</table>\n",
       "</div>"
      ],
      "text/plain": [
       "     stationCode stationName          Line\n",
       "158         5130          加祿           南迴線\n",
       "159         5140          內獅  南迴線、恆春線（規劃中）\n",
       "160         5160          枋山           南迴線\n",
       "172         6040          瑞和           臺東線\n",
       "211         7170          中里           宜蘭線\n",
       "228         7331          大華           平溪線\n",
       "229         7332          十分           平溪線\n",
       "230         7333          望古           平溪線\n",
       "231         7334          嶺腳           平溪線\n",
       "232         7335          平溪           平溪線\n",
       "233         7336          菁桐           平溪線\n",
       "236         7361         海科館           深澳線\n",
       "237         7362         八斗子           深澳線"
      ]
     },
     "execution_count": 14,
     "metadata": {},
     "output_type": "execute_result"
    }
   ],
   "source": [
    "df_station[df_station.stationCode.isin(not366)][['stationCode','stationName','Line']]"
   ]
  },
  {
   "cell_type": "code",
   "execution_count": 15,
   "id": "1d7368c3",
   "metadata": {
    "ExecuteTime": {
     "end_time": "2021-07-14T02:37:58.297262Z",
     "start_time": "2021-07-14T02:37:58.283709Z"
    }
   },
   "outputs": [],
   "source": [
    "df_train_days = df_train.copy()"
   ]
  },
  {
   "cell_type": "code",
   "execution_count": 16,
   "id": "5ee9fe90",
   "metadata": {
    "ExecuteTime": {
     "end_time": "2021-07-14T02:38:07.100660Z",
     "start_time": "2021-07-14T02:37:58.299263Z"
    }
   },
   "outputs": [],
   "source": [
    "for i in not366:\n",
    "    for j in pd.date_range('2020-01-01', periods=366):\n",
    "        if j not in list(df_train_days[df_train_days.staCode == i].trnOpDate):\n",
    "            df_train_days = df_train_days.append(pd.Series({'trnOpDate': j, 'staCode': i,\n",
    "                                                            'gateInComingCnt': 0, 'gateOutGoingCnt': 0,\n",
    "                                                            'Total': 0}), ignore_index=True)"
   ]
  },
  {
   "cell_type": "code",
   "execution_count": 17,
   "id": "a5f4d704",
   "metadata": {
    "ExecuteTime": {
     "end_time": "2021-07-14T02:38:07.132577Z",
     "start_time": "2021-07-14T02:38:07.102658Z"
    }
   },
   "outputs": [
    {
     "data": {
      "text/plain": [
       "366    239\n",
       "Name: Total, dtype: int64"
      ]
     },
     "execution_count": 17,
     "metadata": {},
     "output_type": "execute_result"
    }
   ],
   "source": [
    "df_train_days.groupby('staCode')['Total'].size().value_counts()"
   ]
  },
  {
   "cell_type": "code",
   "execution_count": 18,
   "id": "10c23250",
   "metadata": {
    "ExecuteTime": {
     "end_time": "2021-07-14T02:38:07.163496Z",
     "start_time": "2021-07-14T02:38:07.134575Z"
    }
   },
   "outputs": [
    {
     "data": {
      "text/plain": [
       "(87474, 5)"
      ]
     },
     "execution_count": 18,
     "metadata": {},
     "output_type": "execute_result"
    }
   ],
   "source": [
    "df_train_days.shape"
   ]
  },
  {
   "cell_type": "code",
   "execution_count": 19,
   "id": "0c3a3913",
   "metadata": {
    "ExecuteTime": {
     "end_time": "2021-07-14T02:38:07.318562Z",
     "start_time": "2021-07-14T02:38:07.165491Z"
    }
   },
   "outputs": [],
   "source": [
    "df_train_days = df_train_days.sort_values(by=['trnOpDate', 'staCode']).reset_index(drop=True)"
   ]
  },
  {
   "cell_type": "code",
   "execution_count": 20,
   "id": "af2b67fd",
   "metadata": {
    "ExecuteTime": {
     "end_time": "2021-07-14T02:38:07.349484Z",
     "start_time": "2021-07-14T02:38:07.320562Z"
    }
   },
   "outputs": [
    {
     "data": {
      "text/html": [
       "<div>\n",
       "<style scoped>\n",
       "    .dataframe tbody tr th:only-of-type {\n",
       "        vertical-align: middle;\n",
       "    }\n",
       "\n",
       "    .dataframe tbody tr th {\n",
       "        vertical-align: top;\n",
       "    }\n",
       "\n",
       "    .dataframe thead th {\n",
       "        text-align: right;\n",
       "    }\n",
       "</style>\n",
       "<table border=\"1\" class=\"dataframe\">\n",
       "  <thead>\n",
       "    <tr style=\"text-align: right;\">\n",
       "      <th></th>\n",
       "      <th>trnOpDate</th>\n",
       "      <th>staCode</th>\n",
       "      <th>gateInComingCnt</th>\n",
       "      <th>gateOutGoingCnt</th>\n",
       "      <th>Total</th>\n",
       "    </tr>\n",
       "  </thead>\n",
       "  <tbody>\n",
       "    <tr>\n",
       "      <th>0</th>\n",
       "      <td>2020-01-01</td>\n",
       "      <td>900</td>\n",
       "      <td>7552</td>\n",
       "      <td>8154</td>\n",
       "      <td>15706</td>\n",
       "    </tr>\n",
       "    <tr>\n",
       "      <th>1</th>\n",
       "      <td>2020-01-01</td>\n",
       "      <td>910</td>\n",
       "      <td>1020</td>\n",
       "      <td>1135</td>\n",
       "      <td>2155</td>\n",
       "    </tr>\n",
       "    <tr>\n",
       "      <th>2</th>\n",
       "      <td>2020-01-01</td>\n",
       "      <td>920</td>\n",
       "      <td>1623</td>\n",
       "      <td>1972</td>\n",
       "      <td>3595</td>\n",
       "    </tr>\n",
       "    <tr>\n",
       "      <th>3</th>\n",
       "      <td>2020-01-01</td>\n",
       "      <td>930</td>\n",
       "      <td>4130</td>\n",
       "      <td>4813</td>\n",
       "      <td>8943</td>\n",
       "    </tr>\n",
       "    <tr>\n",
       "      <th>4</th>\n",
       "      <td>2020-01-01</td>\n",
       "      <td>940</td>\n",
       "      <td>1818</td>\n",
       "      <td>2128</td>\n",
       "      <td>3946</td>\n",
       "    </tr>\n",
       "    <tr>\n",
       "      <th>...</th>\n",
       "      <td>...</td>\n",
       "      <td>...</td>\n",
       "      <td>...</td>\n",
       "      <td>...</td>\n",
       "      <td>...</td>\n",
       "    </tr>\n",
       "    <tr>\n",
       "      <th>87469</th>\n",
       "      <td>2020-12-31</td>\n",
       "      <td>7360</td>\n",
       "      <td>3523</td>\n",
       "      <td>3602</td>\n",
       "      <td>7125</td>\n",
       "    </tr>\n",
       "    <tr>\n",
       "      <th>87470</th>\n",
       "      <td>2020-12-31</td>\n",
       "      <td>7361</td>\n",
       "      <td>3</td>\n",
       "      <td>18</td>\n",
       "      <td>21</td>\n",
       "    </tr>\n",
       "    <tr>\n",
       "      <th>87471</th>\n",
       "      <td>2020-12-31</td>\n",
       "      <td>7362</td>\n",
       "      <td>28</td>\n",
       "      <td>34</td>\n",
       "      <td>62</td>\n",
       "    </tr>\n",
       "    <tr>\n",
       "      <th>87472</th>\n",
       "      <td>2020-12-31</td>\n",
       "      <td>7380</td>\n",
       "      <td>609</td>\n",
       "      <td>604</td>\n",
       "      <td>1213</td>\n",
       "    </tr>\n",
       "    <tr>\n",
       "      <th>87473</th>\n",
       "      <td>2020-12-31</td>\n",
       "      <td>7390</td>\n",
       "      <td>377</td>\n",
       "      <td>444</td>\n",
       "      <td>821</td>\n",
       "    </tr>\n",
       "  </tbody>\n",
       "</table>\n",
       "<p>87474 rows × 5 columns</p>\n",
       "</div>"
      ],
      "text/plain": [
       "       trnOpDate  staCode  gateInComingCnt  gateOutGoingCnt  Total\n",
       "0     2020-01-01      900             7552             8154  15706\n",
       "1     2020-01-01      910             1020             1135   2155\n",
       "2     2020-01-01      920             1623             1972   3595\n",
       "3     2020-01-01      930             4130             4813   8943\n",
       "4     2020-01-01      940             1818             2128   3946\n",
       "...          ...      ...              ...              ...    ...\n",
       "87469 2020-12-31     7360             3523             3602   7125\n",
       "87470 2020-12-31     7361                3               18     21\n",
       "87471 2020-12-31     7362               28               34     62\n",
       "87472 2020-12-31     7380              609              604   1213\n",
       "87473 2020-12-31     7390              377              444    821\n",
       "\n",
       "[87474 rows x 5 columns]"
      ]
     },
     "execution_count": 20,
     "metadata": {},
     "output_type": "execute_result"
    }
   ],
   "source": [
    "df_train_days"
   ]
  },
  {
   "cell_type": "markdown",
   "id": "e91438f5",
   "metadata": {},
   "source": [
    "補完之後，來看看我的假設是否正確。先從平溪(7335)開始看起，果然12月有一陣子都沒有運量，剛好就是意外發生的時間點。Bingo!"
   ]
  },
  {
   "cell_type": "code",
   "execution_count": 21,
   "id": "0f44c360",
   "metadata": {
    "ExecuteTime": {
     "end_time": "2021-07-14T02:38:07.396357Z",
     "start_time": "2021-07-14T02:38:07.352475Z"
    }
   },
   "outputs": [
    {
     "data": {
      "text/html": [
       "<div>\n",
       "<style scoped>\n",
       "    .dataframe tbody tr th:only-of-type {\n",
       "        vertical-align: middle;\n",
       "    }\n",
       "\n",
       "    .dataframe tbody tr th {\n",
       "        vertical-align: top;\n",
       "    }\n",
       "\n",
       "    .dataframe thead th {\n",
       "        text-align: right;\n",
       "    }\n",
       "</style>\n",
       "<table border=\"1\" class=\"dataframe\">\n",
       "  <thead>\n",
       "    <tr style=\"text-align: right;\">\n",
       "      <th></th>\n",
       "      <th>trnOpDate</th>\n",
       "      <th>staCode</th>\n",
       "      <th>gateInComingCnt</th>\n",
       "      <th>gateOutGoingCnt</th>\n",
       "      <th>Total</th>\n",
       "    </tr>\n",
       "  </thead>\n",
       "  <tbody>\n",
       "    <tr>\n",
       "      <th>81252</th>\n",
       "      <td>2020-12-05</td>\n",
       "      <td>7335</td>\n",
       "      <td>0</td>\n",
       "      <td>0</td>\n",
       "      <td>0</td>\n",
       "    </tr>\n",
       "    <tr>\n",
       "      <th>81491</th>\n",
       "      <td>2020-12-06</td>\n",
       "      <td>7335</td>\n",
       "      <td>0</td>\n",
       "      <td>0</td>\n",
       "      <td>0</td>\n",
       "    </tr>\n",
       "    <tr>\n",
       "      <th>82208</th>\n",
       "      <td>2020-12-09</td>\n",
       "      <td>7335</td>\n",
       "      <td>0</td>\n",
       "      <td>0</td>\n",
       "      <td>0</td>\n",
       "    </tr>\n",
       "    <tr>\n",
       "      <th>82447</th>\n",
       "      <td>2020-12-10</td>\n",
       "      <td>7335</td>\n",
       "      <td>0</td>\n",
       "      <td>0</td>\n",
       "      <td>0</td>\n",
       "    </tr>\n",
       "    <tr>\n",
       "      <th>82686</th>\n",
       "      <td>2020-12-11</td>\n",
       "      <td>7335</td>\n",
       "      <td>0</td>\n",
       "      <td>0</td>\n",
       "      <td>0</td>\n",
       "    </tr>\n",
       "    <tr>\n",
       "      <th>82925</th>\n",
       "      <td>2020-12-12</td>\n",
       "      <td>7335</td>\n",
       "      <td>0</td>\n",
       "      <td>0</td>\n",
       "      <td>0</td>\n",
       "    </tr>\n",
       "  </tbody>\n",
       "</table>\n",
       "</div>"
      ],
      "text/plain": [
       "       trnOpDate  staCode  gateInComingCnt  gateOutGoingCnt  Total\n",
       "81252 2020-12-05     7335                0                0      0\n",
       "81491 2020-12-06     7335                0                0      0\n",
       "82208 2020-12-09     7335                0                0      0\n",
       "82447 2020-12-10     7335                0                0      0\n",
       "82686 2020-12-11     7335                0                0      0\n",
       "82925 2020-12-12     7335                0                0      0"
      ]
     },
     "execution_count": 21,
     "metadata": {},
     "output_type": "execute_result"
    }
   ],
   "source": [
    "df_train_days[(df_train_days.Total == 0) & (df_train_days.staCode == 7335)]"
   ]
  },
  {
   "cell_type": "code",
   "execution_count": 22,
   "id": "74efca63",
   "metadata": {
    "ExecuteTime": {
     "end_time": "2021-07-14T02:38:07.427276Z",
     "start_time": "2021-07-14T02:38:07.399350Z"
    },
    "scrolled": true
   },
   "outputs": [
    {
     "data": {
      "text/html": [
       "<div>\n",
       "<style scoped>\n",
       "    .dataframe tbody tr th:only-of-type {\n",
       "        vertical-align: middle;\n",
       "    }\n",
       "\n",
       "    .dataframe tbody tr th {\n",
       "        vertical-align: top;\n",
       "    }\n",
       "\n",
       "    .dataframe thead th {\n",
       "        text-align: right;\n",
       "    }\n",
       "</style>\n",
       "<table border=\"1\" class=\"dataframe\">\n",
       "  <thead>\n",
       "    <tr style=\"text-align: right;\">\n",
       "      <th></th>\n",
       "      <th>trnOpDate</th>\n",
       "      <th>staCode</th>\n",
       "      <th>gateInComingCnt</th>\n",
       "      <th>gateOutGoingCnt</th>\n",
       "      <th>Total</th>\n",
       "    </tr>\n",
       "  </thead>\n",
       "  <tbody>\n",
       "    <tr>\n",
       "      <th>80296</th>\n",
       "      <td>2020-12-01</td>\n",
       "      <td>7335</td>\n",
       "      <td>35</td>\n",
       "      <td>59</td>\n",
       "      <td>94</td>\n",
       "    </tr>\n",
       "    <tr>\n",
       "      <th>80535</th>\n",
       "      <td>2020-12-02</td>\n",
       "      <td>7335</td>\n",
       "      <td>91</td>\n",
       "      <td>63</td>\n",
       "      <td>154</td>\n",
       "    </tr>\n",
       "    <tr>\n",
       "      <th>80774</th>\n",
       "      <td>2020-12-03</td>\n",
       "      <td>7335</td>\n",
       "      <td>66</td>\n",
       "      <td>304</td>\n",
       "      <td>370</td>\n",
       "    </tr>\n",
       "    <tr>\n",
       "      <th>81013</th>\n",
       "      <td>2020-12-04</td>\n",
       "      <td>7335</td>\n",
       "      <td>10</td>\n",
       "      <td>28</td>\n",
       "      <td>38</td>\n",
       "    </tr>\n",
       "    <tr>\n",
       "      <th>81252</th>\n",
       "      <td>2020-12-05</td>\n",
       "      <td>7335</td>\n",
       "      <td>0</td>\n",
       "      <td>0</td>\n",
       "      <td>0</td>\n",
       "    </tr>\n",
       "    <tr>\n",
       "      <th>81491</th>\n",
       "      <td>2020-12-06</td>\n",
       "      <td>7335</td>\n",
       "      <td>0</td>\n",
       "      <td>0</td>\n",
       "      <td>0</td>\n",
       "    </tr>\n",
       "    <tr>\n",
       "      <th>81730</th>\n",
       "      <td>2020-12-07</td>\n",
       "      <td>7335</td>\n",
       "      <td>0</td>\n",
       "      <td>7</td>\n",
       "      <td>7</td>\n",
       "    </tr>\n",
       "    <tr>\n",
       "      <th>81969</th>\n",
       "      <td>2020-12-08</td>\n",
       "      <td>7335</td>\n",
       "      <td>0</td>\n",
       "      <td>1</td>\n",
       "      <td>1</td>\n",
       "    </tr>\n",
       "    <tr>\n",
       "      <th>82208</th>\n",
       "      <td>2020-12-09</td>\n",
       "      <td>7335</td>\n",
       "      <td>0</td>\n",
       "      <td>0</td>\n",
       "      <td>0</td>\n",
       "    </tr>\n",
       "    <tr>\n",
       "      <th>82447</th>\n",
       "      <td>2020-12-10</td>\n",
       "      <td>7335</td>\n",
       "      <td>0</td>\n",
       "      <td>0</td>\n",
       "      <td>0</td>\n",
       "    </tr>\n",
       "    <tr>\n",
       "      <th>82686</th>\n",
       "      <td>2020-12-11</td>\n",
       "      <td>7335</td>\n",
       "      <td>0</td>\n",
       "      <td>0</td>\n",
       "      <td>0</td>\n",
       "    </tr>\n",
       "    <tr>\n",
       "      <th>82925</th>\n",
       "      <td>2020-12-12</td>\n",
       "      <td>7335</td>\n",
       "      <td>0</td>\n",
       "      <td>0</td>\n",
       "      <td>0</td>\n",
       "    </tr>\n",
       "    <tr>\n",
       "      <th>83164</th>\n",
       "      <td>2020-12-13</td>\n",
       "      <td>7335</td>\n",
       "      <td>0</td>\n",
       "      <td>2</td>\n",
       "      <td>2</td>\n",
       "    </tr>\n",
       "    <tr>\n",
       "      <th>83403</th>\n",
       "      <td>2020-12-14</td>\n",
       "      <td>7335</td>\n",
       "      <td>52</td>\n",
       "      <td>96</td>\n",
       "      <td>148</td>\n",
       "    </tr>\n",
       "    <tr>\n",
       "      <th>83642</th>\n",
       "      <td>2020-12-15</td>\n",
       "      <td>7335</td>\n",
       "      <td>47</td>\n",
       "      <td>57</td>\n",
       "      <td>104</td>\n",
       "    </tr>\n",
       "  </tbody>\n",
       "</table>\n",
       "</div>"
      ],
      "text/plain": [
       "       trnOpDate  staCode  gateInComingCnt  gateOutGoingCnt  Total\n",
       "80296 2020-12-01     7335               35               59     94\n",
       "80535 2020-12-02     7335               91               63    154\n",
       "80774 2020-12-03     7335               66              304    370\n",
       "81013 2020-12-04     7335               10               28     38\n",
       "81252 2020-12-05     7335                0                0      0\n",
       "81491 2020-12-06     7335                0                0      0\n",
       "81730 2020-12-07     7335                0                7      7\n",
       "81969 2020-12-08     7335                0                1      1\n",
       "82208 2020-12-09     7335                0                0      0\n",
       "82447 2020-12-10     7335                0                0      0\n",
       "82686 2020-12-11     7335                0                0      0\n",
       "82925 2020-12-12     7335                0                0      0\n",
       "83164 2020-12-13     7335                0                2      2\n",
       "83403 2020-12-14     7335               52               96    148\n",
       "83642 2020-12-15     7335               47               57    104"
      ]
     },
     "execution_count": 22,
     "metadata": {},
     "output_type": "execute_result"
    }
   ],
   "source": [
    "df_train_days[(df_train_days.staCode == 7335) & (df_train_days.trnOpDate.isin(pd.date_range('2020-12-01', '2020-12-15')))]"
   ]
  },
  {
   "cell_type": "markdown",
   "id": "b44cf824",
   "metadata": {},
   "source": [
    "## 3. 建立資料樣態"
   ]
  },
  {
   "cell_type": "markdown",
   "id": "bffdfda8",
   "metadata": {},
   "source": [
    "為了方便之後使用，我決定將一部分的運量資料整理到車站資料中。"
   ]
  },
  {
   "cell_type": "code",
   "execution_count": 23,
   "id": "3e84c368",
   "metadata": {
    "ExecuteTime": {
     "end_time": "2021-07-14T02:38:07.458193Z",
     "start_time": "2021-07-14T02:38:07.436251Z"
    }
   },
   "outputs": [],
   "source": [
    "passenger_info = df_train_days.groupby('staCode').Total.agg(['max', 'min', 'mean', 'sum'])"
   ]
  },
  {
   "cell_type": "code",
   "execution_count": 24,
   "id": "1374f067",
   "metadata": {
    "ExecuteTime": {
     "end_time": "2021-07-14T02:38:07.534041Z",
     "start_time": "2021-07-14T02:38:07.464177Z"
    }
   },
   "outputs": [],
   "source": [
    "df_stapass = df_station.merge(passenger_info, left_on='stationCode', right_on='staCode')"
   ]
  },
  {
   "cell_type": "code",
   "execution_count": 25,
   "id": "e1256322",
   "metadata": {
    "ExecuteTime": {
     "end_time": "2021-07-14T02:38:07.550017Z",
     "start_time": "2021-07-14T02:38:07.536036Z"
    }
   },
   "outputs": [],
   "source": [
    "df_stapass_sim = df_stapass[['stationCode', 'stationName', 'Level', 'Open', 'Line', 'max', 'min', 'mean', 'sum']]"
   ]
  },
  {
   "cell_type": "code",
   "execution_count": 26,
   "id": "2cb76d9f",
   "metadata": {
    "ExecuteTime": {
     "end_time": "2021-07-14T02:38:07.596873Z",
     "start_time": "2021-07-14T02:38:07.552991Z"
    }
   },
   "outputs": [
    {
     "data": {
      "text/html": [
       "<div>\n",
       "<style scoped>\n",
       "    .dataframe tbody tr th:only-of-type {\n",
       "        vertical-align: middle;\n",
       "    }\n",
       "\n",
       "    .dataframe tbody tr th {\n",
       "        vertical-align: top;\n",
       "    }\n",
       "\n",
       "    .dataframe thead th {\n",
       "        text-align: right;\n",
       "    }\n",
       "</style>\n",
       "<table border=\"1\" class=\"dataframe\">\n",
       "  <thead>\n",
       "    <tr style=\"text-align: right;\">\n",
       "      <th></th>\n",
       "      <th>stationCode</th>\n",
       "      <th>stationName</th>\n",
       "      <th>Level</th>\n",
       "      <th>Open</th>\n",
       "      <th>Line</th>\n",
       "      <th>max</th>\n",
       "      <th>min</th>\n",
       "      <th>mean</th>\n",
       "      <th>sum</th>\n",
       "    </tr>\n",
       "  </thead>\n",
       "  <tbody>\n",
       "    <tr>\n",
       "      <th>0</th>\n",
       "      <td>900</td>\n",
       "      <td>基隆</td>\n",
       "      <td>一等</td>\n",
       "      <td>1891-10-20</td>\n",
       "      <td>縱貫線、基隆捷運（規劃中）</td>\n",
       "      <td>20685</td>\n",
       "      <td>6897</td>\n",
       "      <td>13492.571038</td>\n",
       "      <td>4938281</td>\n",
       "    </tr>\n",
       "    <tr>\n",
       "      <th>1</th>\n",
       "      <td>910</td>\n",
       "      <td>三坑</td>\n",
       "      <td>簡易</td>\n",
       "      <td>2003-05-09</td>\n",
       "      <td>縱貫線</td>\n",
       "      <td>3202</td>\n",
       "      <td>1417</td>\n",
       "      <td>2522.655738</td>\n",
       "      <td>923292</td>\n",
       "    </tr>\n",
       "    <tr>\n",
       "      <th>2</th>\n",
       "      <td>920</td>\n",
       "      <td>八堵</td>\n",
       "      <td>二等</td>\n",
       "      <td>1899-07-20</td>\n",
       "      <td>縱貫線、宜蘭線</td>\n",
       "      <td>5952</td>\n",
       "      <td>2152</td>\n",
       "      <td>4175.448087</td>\n",
       "      <td>1528214</td>\n",
       "    </tr>\n",
       "    <tr>\n",
       "      <th>3</th>\n",
       "      <td>930</td>\n",
       "      <td>七堵</td>\n",
       "      <td>一等</td>\n",
       "      <td>1891-10-20</td>\n",
       "      <td>縱貫線</td>\n",
       "      <td>15654</td>\n",
       "      <td>5223</td>\n",
       "      <td>11144.581967</td>\n",
       "      <td>4078917</td>\n",
       "    </tr>\n",
       "    <tr>\n",
       "      <th>4</th>\n",
       "      <td>940</td>\n",
       "      <td>百福</td>\n",
       "      <td>簡易</td>\n",
       "      <td>2007-05-08</td>\n",
       "      <td>縱貫線</td>\n",
       "      <td>6675</td>\n",
       "      <td>2344</td>\n",
       "      <td>4857.756831</td>\n",
       "      <td>1777939</td>\n",
       "    </tr>\n",
       "    <tr>\n",
       "      <th>...</th>\n",
       "      <td>...</td>\n",
       "      <td>...</td>\n",
       "      <td>...</td>\n",
       "      <td>...</td>\n",
       "      <td>...</td>\n",
       "      <td>...</td>\n",
       "      <td>...</td>\n",
       "      <td>...</td>\n",
       "      <td>...</td>\n",
       "    </tr>\n",
       "    <tr>\n",
       "      <th>234</th>\n",
       "      <td>7360</td>\n",
       "      <td>瑞芳</td>\n",
       "      <td>一等</td>\n",
       "      <td>1919-05-05</td>\n",
       "      <td>宜蘭線、深澳線</td>\n",
       "      <td>15648</td>\n",
       "      <td>3761</td>\n",
       "      <td>7670.453552</td>\n",
       "      <td>2807386</td>\n",
       "    </tr>\n",
       "    <tr>\n",
       "      <th>235</th>\n",
       "      <td>7361</td>\n",
       "      <td>海科館</td>\n",
       "      <td>招呼</td>\n",
       "      <td>2014-01-09</td>\n",
       "      <td>深澳線</td>\n",
       "      <td>1139</td>\n",
       "      <td>0</td>\n",
       "      <td>168.267760</td>\n",
       "      <td>61586</td>\n",
       "    </tr>\n",
       "    <tr>\n",
       "      <th>236</th>\n",
       "      <td>7362</td>\n",
       "      <td>八斗子</td>\n",
       "      <td>招呼</td>\n",
       "      <td>1967-08-25</td>\n",
       "      <td>深澳線</td>\n",
       "      <td>1894</td>\n",
       "      <td>0</td>\n",
       "      <td>343.049180</td>\n",
       "      <td>125556</td>\n",
       "    </tr>\n",
       "    <tr>\n",
       "      <th>237</th>\n",
       "      <td>7380</td>\n",
       "      <td>四腳亭</td>\n",
       "      <td>三等</td>\n",
       "      <td>1919-05-05</td>\n",
       "      <td>宜蘭線</td>\n",
       "      <td>1857</td>\n",
       "      <td>561</td>\n",
       "      <td>1149.442623</td>\n",
       "      <td>420696</td>\n",
       "    </tr>\n",
       "    <tr>\n",
       "      <th>238</th>\n",
       "      <td>7390</td>\n",
       "      <td>暖暖</td>\n",
       "      <td>招呼</td>\n",
       "      <td>1919-05-05</td>\n",
       "      <td>宜蘭線</td>\n",
       "      <td>1087</td>\n",
       "      <td>352</td>\n",
       "      <td>763.877049</td>\n",
       "      <td>279579</td>\n",
       "    </tr>\n",
       "  </tbody>\n",
       "</table>\n",
       "<p>239 rows × 9 columns</p>\n",
       "</div>"
      ],
      "text/plain": [
       "     stationCode stationName Level        Open           Line    max   min  \\\n",
       "0            900          基隆    一等  1891-10-20  縱貫線、基隆捷運（規劃中）  20685  6897   \n",
       "1            910          三坑    簡易  2003-05-09            縱貫線   3202  1417   \n",
       "2            920          八堵    二等  1899-07-20        縱貫線、宜蘭線   5952  2152   \n",
       "3            930          七堵    一等  1891-10-20            縱貫線  15654  5223   \n",
       "4            940          百福    簡易  2007-05-08            縱貫線   6675  2344   \n",
       "..           ...         ...   ...         ...            ...    ...   ...   \n",
       "234         7360          瑞芳    一等  1919-05-05        宜蘭線、深澳線  15648  3761   \n",
       "235         7361         海科館    招呼  2014-01-09            深澳線   1139     0   \n",
       "236         7362         八斗子    招呼  1967-08-25            深澳線   1894     0   \n",
       "237         7380         四腳亭    三等  1919-05-05            宜蘭線   1857   561   \n",
       "238         7390          暖暖    招呼  1919-05-05            宜蘭線   1087   352   \n",
       "\n",
       "             mean      sum  \n",
       "0    13492.571038  4938281  \n",
       "1     2522.655738   923292  \n",
       "2     4175.448087  1528214  \n",
       "3    11144.581967  4078917  \n",
       "4     4857.756831  1777939  \n",
       "..            ...      ...  \n",
       "234   7670.453552  2807386  \n",
       "235    168.267760    61586  \n",
       "236    343.049180   125556  \n",
       "237   1149.442623   420696  \n",
       "238    763.877049   279579  \n",
       "\n",
       "[239 rows x 9 columns]"
      ]
     },
     "execution_count": 26,
     "metadata": {},
     "output_type": "execute_result"
    }
   ],
   "source": [
    "df_stapass_sim"
   ]
  },
  {
   "cell_type": "code",
   "execution_count": 27,
   "id": "597a28d7",
   "metadata": {
    "ExecuteTime": {
     "end_time": "2021-07-14T02:38:07.626793Z",
     "start_time": "2021-07-14T02:38:07.598870Z"
    },
    "scrolled": true
   },
   "outputs": [
    {
     "data": {
      "text/html": [
       "<div>\n",
       "<style scoped>\n",
       "    .dataframe tbody tr th:only-of-type {\n",
       "        vertical-align: middle;\n",
       "    }\n",
       "\n",
       "    .dataframe tbody tr th {\n",
       "        vertical-align: top;\n",
       "    }\n",
       "\n",
       "    .dataframe thead th {\n",
       "        text-align: right;\n",
       "    }\n",
       "</style>\n",
       "<table border=\"1\" class=\"dataframe\">\n",
       "  <thead>\n",
       "    <tr style=\"text-align: right;\">\n",
       "      <th></th>\n",
       "      <th>mean</th>\n",
       "      <th>std</th>\n",
       "      <th>sum</th>\n",
       "    </tr>\n",
       "    <tr>\n",
       "      <th>Level</th>\n",
       "      <th></th>\n",
       "      <th></th>\n",
       "      <th></th>\n",
       "    </tr>\n",
       "  </thead>\n",
       "  <tbody>\n",
       "    <tr>\n",
       "      <th>一等</th>\n",
       "      <td>6.985579e+06</td>\n",
       "      <td>5.165638e+06</td>\n",
       "      <td>195596225</td>\n",
       "    </tr>\n",
       "    <tr>\n",
       "      <th>三等</th>\n",
       "      <td>8.124858e+05</td>\n",
       "      <td>1.115565e+06</td>\n",
       "      <td>54436551</td>\n",
       "    </tr>\n",
       "    <tr>\n",
       "      <th>丙簡</th>\n",
       "      <td>2.435785e+05</td>\n",
       "      <td>2.330589e+05</td>\n",
       "      <td>487157</td>\n",
       "    </tr>\n",
       "    <tr>\n",
       "      <th>乙簡</th>\n",
       "      <td>4.071473e+05</td>\n",
       "      <td>6.692661e+05</td>\n",
       "      <td>7328651</td>\n",
       "    </tr>\n",
       "    <tr>\n",
       "      <th>二等</th>\n",
       "      <td>1.760619e+06</td>\n",
       "      <td>1.798334e+06</td>\n",
       "      <td>44015470</td>\n",
       "    </tr>\n",
       "    <tr>\n",
       "      <th>招呼</th>\n",
       "      <td>8.460207e+04</td>\n",
       "      <td>9.176550e+04</td>\n",
       "      <td>3384083</td>\n",
       "    </tr>\n",
       "    <tr>\n",
       "      <th>特等</th>\n",
       "      <td>1.839965e+07</td>\n",
       "      <td>1.393922e+07</td>\n",
       "      <td>73598606</td>\n",
       "    </tr>\n",
       "    <tr>\n",
       "      <th>甲簡</th>\n",
       "      <td>2.365472e+05</td>\n",
       "      <td>1.707416e+05</td>\n",
       "      <td>2838566</td>\n",
       "    </tr>\n",
       "    <tr>\n",
       "      <th>簡易</th>\n",
       "      <td>8.110398e+05</td>\n",
       "      <td>1.035434e+06</td>\n",
       "      <td>34874713</td>\n",
       "    </tr>\n",
       "  </tbody>\n",
       "</table>\n",
       "</div>"
      ],
      "text/plain": [
       "               mean           std        sum\n",
       "Level                                       \n",
       "一等     6.985579e+06  5.165638e+06  195596225\n",
       "三等     8.124858e+05  1.115565e+06   54436551\n",
       "丙簡     2.435785e+05  2.330589e+05     487157\n",
       "乙簡     4.071473e+05  6.692661e+05    7328651\n",
       "二等     1.760619e+06  1.798334e+06   44015470\n",
       "招呼     8.460207e+04  9.176550e+04    3384083\n",
       "特等     1.839965e+07  1.393922e+07   73598606\n",
       "甲簡     2.365472e+05  1.707416e+05    2838566\n",
       "簡易     8.110398e+05  1.035434e+06   34874713"
      ]
     },
     "execution_count": 27,
     "metadata": {},
     "output_type": "execute_result"
    }
   ],
   "source": [
    "df_stapass_sim.groupby('Level')['sum'].agg(['mean', 'std', 'sum'])"
   ]
  },
  {
   "cell_type": "markdown",
   "id": "e6a914e3",
   "metadata": {},
   "source": [
    "同時我也決定將一部分的車站資料放到運量資料中，也許之後會用的到"
   ]
  },
  {
   "cell_type": "code",
   "execution_count": 28,
   "id": "8dcfec35",
   "metadata": {
    "ExecuteTime": {
     "end_time": "2021-07-14T02:38:07.689626Z",
     "start_time": "2021-07-14T02:38:07.630785Z"
    }
   },
   "outputs": [],
   "source": [
    "df_tr_count = df_train_days.merge(df_station[['stationCode', 'stationName', 'Level']],\n",
    "                                  left_on='staCode', right_on='stationCode').drop('stationCode', axis=1).set_index('trnOpDate')"
   ]
  },
  {
   "cell_type": "code",
   "execution_count": 29,
   "id": "c488bb9b",
   "metadata": {
    "ExecuteTime": {
     "end_time": "2021-07-14T02:38:07.734506Z",
     "start_time": "2021-07-14T02:38:07.692617Z"
    }
   },
   "outputs": [
    {
     "data": {
      "text/html": [
       "<div>\n",
       "<style scoped>\n",
       "    .dataframe tbody tr th:only-of-type {\n",
       "        vertical-align: middle;\n",
       "    }\n",
       "\n",
       "    .dataframe tbody tr th {\n",
       "        vertical-align: top;\n",
       "    }\n",
       "\n",
       "    .dataframe thead th {\n",
       "        text-align: right;\n",
       "    }\n",
       "</style>\n",
       "<table border=\"1\" class=\"dataframe\">\n",
       "  <thead>\n",
       "    <tr style=\"text-align: right;\">\n",
       "      <th></th>\n",
       "      <th>staCode</th>\n",
       "      <th>gateInComingCnt</th>\n",
       "      <th>gateOutGoingCnt</th>\n",
       "      <th>Total</th>\n",
       "      <th>stationName</th>\n",
       "      <th>Level</th>\n",
       "    </tr>\n",
       "    <tr>\n",
       "      <th>trnOpDate</th>\n",
       "      <th></th>\n",
       "      <th></th>\n",
       "      <th></th>\n",
       "      <th></th>\n",
       "      <th></th>\n",
       "      <th></th>\n",
       "    </tr>\n",
       "  </thead>\n",
       "  <tbody>\n",
       "    <tr>\n",
       "      <th>2020-01-01</th>\n",
       "      <td>900</td>\n",
       "      <td>7552</td>\n",
       "      <td>8154</td>\n",
       "      <td>15706</td>\n",
       "      <td>基隆</td>\n",
       "      <td>一等</td>\n",
       "    </tr>\n",
       "    <tr>\n",
       "      <th>2020-01-02</th>\n",
       "      <td>900</td>\n",
       "      <td>7709</td>\n",
       "      <td>7240</td>\n",
       "      <td>14949</td>\n",
       "      <td>基隆</td>\n",
       "      <td>一等</td>\n",
       "    </tr>\n",
       "    <tr>\n",
       "      <th>2020-01-03</th>\n",
       "      <td>900</td>\n",
       "      <td>8713</td>\n",
       "      <td>8086</td>\n",
       "      <td>16799</td>\n",
       "      <td>基隆</td>\n",
       "      <td>一等</td>\n",
       "    </tr>\n",
       "    <tr>\n",
       "      <th>2020-01-04</th>\n",
       "      <td>900</td>\n",
       "      <td>8625</td>\n",
       "      <td>8407</td>\n",
       "      <td>17032</td>\n",
       "      <td>基隆</td>\n",
       "      <td>一等</td>\n",
       "    </tr>\n",
       "    <tr>\n",
       "      <th>2020-01-05</th>\n",
       "      <td>900</td>\n",
       "      <td>8015</td>\n",
       "      <td>7355</td>\n",
       "      <td>15370</td>\n",
       "      <td>基隆</td>\n",
       "      <td>一等</td>\n",
       "    </tr>\n",
       "    <tr>\n",
       "      <th>...</th>\n",
       "      <td>...</td>\n",
       "      <td>...</td>\n",
       "      <td>...</td>\n",
       "      <td>...</td>\n",
       "      <td>...</td>\n",
       "      <td>...</td>\n",
       "    </tr>\n",
       "    <tr>\n",
       "      <th>2020-12-27</th>\n",
       "      <td>7390</td>\n",
       "      <td>302</td>\n",
       "      <td>378</td>\n",
       "      <td>680</td>\n",
       "      <td>暖暖</td>\n",
       "      <td>招呼</td>\n",
       "    </tr>\n",
       "    <tr>\n",
       "      <th>2020-12-28</th>\n",
       "      <td>7390</td>\n",
       "      <td>419</td>\n",
       "      <td>477</td>\n",
       "      <td>896</td>\n",
       "      <td>暖暖</td>\n",
       "      <td>招呼</td>\n",
       "    </tr>\n",
       "    <tr>\n",
       "      <th>2020-12-29</th>\n",
       "      <td>7390</td>\n",
       "      <td>410</td>\n",
       "      <td>475</td>\n",
       "      <td>885</td>\n",
       "      <td>暖暖</td>\n",
       "      <td>招呼</td>\n",
       "    </tr>\n",
       "    <tr>\n",
       "      <th>2020-12-30</th>\n",
       "      <td>7390</td>\n",
       "      <td>381</td>\n",
       "      <td>452</td>\n",
       "      <td>833</td>\n",
       "      <td>暖暖</td>\n",
       "      <td>招呼</td>\n",
       "    </tr>\n",
       "    <tr>\n",
       "      <th>2020-12-31</th>\n",
       "      <td>7390</td>\n",
       "      <td>377</td>\n",
       "      <td>444</td>\n",
       "      <td>821</td>\n",
       "      <td>暖暖</td>\n",
       "      <td>招呼</td>\n",
       "    </tr>\n",
       "  </tbody>\n",
       "</table>\n",
       "<p>87474 rows × 6 columns</p>\n",
       "</div>"
      ],
      "text/plain": [
       "            staCode  gateInComingCnt  gateOutGoingCnt  Total stationName Level\n",
       "trnOpDate                                                                     \n",
       "2020-01-01      900             7552             8154  15706          基隆    一等\n",
       "2020-01-02      900             7709             7240  14949          基隆    一等\n",
       "2020-01-03      900             8713             8086  16799          基隆    一等\n",
       "2020-01-04      900             8625             8407  17032          基隆    一等\n",
       "2020-01-05      900             8015             7355  15370          基隆    一等\n",
       "...             ...              ...              ...    ...         ...   ...\n",
       "2020-12-27     7390              302              378    680          暖暖    招呼\n",
       "2020-12-28     7390              419              477    896          暖暖    招呼\n",
       "2020-12-29     7390              410              475    885          暖暖    招呼\n",
       "2020-12-30     7390              381              452    833          暖暖    招呼\n",
       "2020-12-31     7390              377              444    821          暖暖    招呼\n",
       "\n",
       "[87474 rows x 6 columns]"
      ]
     },
     "execution_count": 29,
     "metadata": {},
     "output_type": "execute_result"
    }
   ],
   "source": [
    "df_tr_count"
   ]
  },
  {
   "cell_type": "code",
   "execution_count": 45,
   "id": "537bfeb6",
   "metadata": {
    "ExecuteTime": {
     "end_time": "2021-07-14T03:55:19.628511Z",
     "start_time": "2021-07-14T03:55:18.547910Z"
    }
   },
   "outputs": [],
   "source": [
    "df_tr_count.to_csv('train_count.csv')"
   ]
  },
  {
   "cell_type": "code",
   "execution_count": 46,
   "id": "f6ec6acd",
   "metadata": {
    "ExecuteTime": {
     "end_time": "2021-07-14T03:55:52.881174Z",
     "start_time": "2021-07-14T03:55:52.756187Z"
    }
   },
   "outputs": [],
   "source": [
    "df_stapass_sim.to_csv('station_passenger_simple_summary.csv')"
   ]
  }
 ],
 "metadata": {
  "kernelspec": {
   "display_name": "Python 3",
   "language": "python",
   "name": "python3"
  },
  "language_info": {
   "codemirror_mode": {
    "name": "ipython",
    "version": 3
   },
   "file_extension": ".py",
   "mimetype": "text/x-python",
   "name": "python",
   "nbconvert_exporter": "python",
   "pygments_lexer": "ipython3",
   "version": "3.8.10"
  },
  "toc": {
   "base_numbering": 1,
   "nav_menu": {},
   "number_sections": true,
   "sideBar": true,
   "skip_h1_title": false,
   "title_cell": "Table of Contents",
   "title_sidebar": "Contents",
   "toc_cell": false,
   "toc_position": {},
   "toc_section_display": true,
   "toc_window_display": false
  }
 },
 "nbformat": 4,
 "nbformat_minor": 5
}
